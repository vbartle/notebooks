{
 "cells": [
  {
   "cell_type": "code",
   "execution_count": 1,
   "metadata": {},
   "outputs": [],
   "source": [
    "import numpy as np"
   ]
  },
  {
   "cell_type": "code",
   "execution_count": 2,
   "metadata": {},
   "outputs": [],
   "source": [
    "import matplotlib.pyplot as plt"
   ]
  },
  {
   "cell_type": "code",
   "execution_count": 3,
   "metadata": {},
   "outputs": [],
   "source": [
    "plt.rcParams[ \"figure.figsize\" ] = (10,10)"
   ]
  },
  {
   "cell_type": "code",
   "execution_count": 4,
   "metadata": {},
   "outputs": [],
   "source": [
    "# Init data.\n",
    "scale = 10\n",
    "ndata = int(scale*2)\n",
    "bounds = [-scale/2,scale/2]\n",
    "nvar = int(scale/2)\n",
    "xs = np.linspace(*bounds,ndata)\n",
    "ys = np.random.ranf(ndata)*3\n",
    "# Init data."
   ]
  },
  {
   "cell_type": "code",
   "execution_count": 5,
   "metadata": {},
   "outputs": [
    {
     "data": {
      "text/plain": [
       "array([-5.        , -4.47368421, -3.94736842, -3.42105263, -2.89473684,\n",
       "       -2.36842105, -1.84210526, -1.31578947, -0.78947368, -0.26315789,\n",
       "        0.26315789,  0.78947368,  1.31578947,  1.84210526,  2.36842105,\n",
       "        2.89473684,  3.42105263,  3.94736842,  4.47368421,  5.        ])"
      ]
     },
     "execution_count": 5,
     "metadata": {},
     "output_type": "execute_result"
    }
   ],
   "source": [
    "xs"
   ]
  },
  {
   "cell_type": "code",
   "execution_count": 6,
   "metadata": {},
   "outputs": [
    {
     "data": {
      "text/plain": [
       "array([2.66723518, 1.74965429, 1.59191251, 0.43729617, 0.29827189,\n",
       "       0.22773264, 2.94805837, 2.28378752, 2.15320164, 1.42600327,\n",
       "       1.4127106 , 2.81447315, 0.29411441, 2.49252513, 1.23383692,\n",
       "       1.3081184 , 1.18085441, 0.43549825, 1.70907611, 2.7517106 ])"
      ]
     },
     "execution_count": 6,
     "metadata": {},
     "output_type": "execute_result"
    }
   ],
   "source": [
    "ys"
   ]
  },
  {
   "cell_type": "code",
   "execution_count": 7,
   "metadata": {},
   "outputs": [
    {
     "data": {
      "image/png": "[encoded data removed]",
      "text/plain": [
       "<Figure size 720x720 with 1 Axes>"
      ]
     },
     "metadata": {
      "needs_background": "light"
     },
     "output_type": "display_data"
    }
   ],
   "source": [
    "plt.scatter(xs,ys)\n",
    "plt.axis([-scale/2,scale/2,-scale/2,scale/2])\n",
    "plt.gca().axes.get_xaxis().set_visible(False)\n",
    "plt.gca().axes.get_yaxis().set_visible(False)"
   ]
  },
  {
   "cell_type": "markdown",
   "metadata": {},
   "source": [
    "1. what is linear regression?\n",
    "1. what is mean squared error?\n",
    "1. what is ordinary least squares?"
   ]
  },
  {
   "cell_type": "markdown",
   "metadata": {},
   "source": [
    "# $y=mx+b$\n",
    "## $m = \\frac{\\Sigma (x-\\bar{x})(y-\\bar{y})}{\\Sigma (x-\\bar{x})^{2}}$\n",
    "## $b = \\bar{y} - m\\bar{x}$\n",
    "\n",
    "*bar notation $\\rightarrow$ mean"
   ]
  },
  {
   "cell_type": "code",
   "execution_count": 8,
   "metadata": {},
   "outputs": [
    {
     "data": {
      "text/plain": [
       "(-1.7763568394002506e-16, 1.5708035736723553)"
      ]
     },
     "execution_count": 8,
     "metadata": {},
     "output_type": "execute_result"
    }
   ],
   "source": [
    "np.mean(xs),np.mean(ys)"
   ]
  },
  {
   "cell_type": "code",
   "execution_count": 9,
   "metadata": {},
   "outputs": [
    {
     "data": {
      "text/plain": [
       "15.796344928211363"
      ]
     },
     "execution_count": 9,
     "metadata": {},
     "output_type": "execute_result"
    }
   ],
   "source": [
    "sum([(y - np.mean(ys))**2 for y in ys])"
   ]
  },
  {
   "cell_type": "code",
   "execution_count": 10,
   "metadata": {},
   "outputs": [
    {
     "data": {
      "text/plain": [
       "[(-5.0, 2.667235183461533),\n",
       " (-4.473684210526316, 1.749654291535454),\n",
       " (-3.947368421052632, 1.5919125132778849),\n",
       " (-3.4210526315789473, 0.43729616664407844),\n",
       " (-2.8947368421052633, 0.2982718924795743),\n",
       " (-2.368421052631579, 0.2277326356800573),\n",
       " (-1.8421052631578947, 2.9480583716480937),\n",
       " (-1.3157894736842106, 2.283787515622452),\n",
       " (-0.7894736842105265, 2.1532016418922755),\n",
       " (-0.2631578947368425, 1.4260032737239074),\n",
       " (0.2631578947368416, 1.412710602305202),\n",
       " (0.7894736842105257, 2.8144731464456374),\n",
       " (1.3157894736842106, 0.2941144136826297),\n",
       " (1.8421052631578947, 2.492525134321337),\n",
       " (2.3684210526315788, 1.233836922921964),\n",
       " (2.894736842105263, 1.3081183959782405),\n",
       " (3.421052631578947, 1.1808544085250452),\n",
       " (3.947368421052632, 0.4354982502637984),\n",
       " (4.473684210526315, 1.7090761089506747),\n",
       " (5.0, 2.7517106040872648)]"
      ]
     },
     "execution_count": 10,
     "metadata": {},
     "output_type": "execute_result"
    }
   ],
   "source": [
    "[i for i in list(zip(xs,ys))]"
   ]
  },
  {
   "cell_type": "code",
   "execution_count": 11,
   "metadata": {},
   "outputs": [
    {
     "data": {
      "text/plain": [
       "0.0031884584030091247"
      ]
     },
     "execution_count": 11,
     "metadata": {},
     "output_type": "execute_result"
    }
   ],
   "source": [
    "m = sum([((i[0] - np.mean(xs)) * (i[1] - np.mean(ys))) for i in list(zip(xs,ys))]) \\\n",
    "    / sum([(i - np.mean(xs))**2 for i in xs])\n",
    "m"
   ]
  },
  {
   "cell_type": "code",
   "execution_count": 12,
   "metadata": {},
   "outputs": [
    {
     "data": {
      "text/plain": [
       "1.5708035736723553"
      ]
     },
     "execution_count": 12,
     "metadata": {},
     "output_type": "execute_result"
    }
   ],
   "source": [
    "b = np.mean(ys) - m*np.mean(xs)\n",
    "b"
   ]
  },
  {
   "cell_type": "code",
   "execution_count": 13,
   "metadata": {},
   "outputs": [
    {
     "data": {
      "text/plain": [
       "array([[-5.        ,  1.        ],\n",
       "       [-4.47368421,  1.        ],\n",
       "       [-3.94736842,  1.        ]])"
      ]
     },
     "execution_count": 13,
     "metadata": {},
     "output_type": "execute_result"
    }
   ],
   "source": [
    "A = np.vstack([xs, np.ones(len(xs))]).T\n",
    "A[:3]"
   ]
  },
  {
   "cell_type": "code",
   "execution_count": 14,
   "metadata": {},
   "outputs": [
    {
     "name": "stderr",
     "output_type": "stream",
     "text": [
      "/usr/local/lib/python3.7/site-packages/ipykernel_launcher.py:1: FutureWarning: `rcond` parameter will change to the default of machine precision times ``max(M, N)`` where M and N are the input matrix dimensions.\n",
      "To use the future default and silence this warning we advise to pass `rcond=None`, to keep using the old, explicitly pass `rcond=-1`.\n",
      "  \"\"\"Entry point for launching an IPython kernel.\n"
     ]
    },
    {
     "data": {
      "text/plain": [
       "array([0.00318846, 1.57080357])"
      ]
     },
     "execution_count": 14,
     "metadata": {},
     "output_type": "execute_result"
    }
   ],
   "source": [
    "numpyResults = np.linalg.lstsq(A,ys)[0]\n",
    "numpyResults"
   ]
  },
  {
   "cell_type": "code",
   "execution_count": 15,
   "metadata": {},
   "outputs": [
    {
     "data": {
      "image/png": "[encoded data removed]",
      "text/plain": [
       "<Figure size 720x720 with 1 Axes>"
      ]
     },
     "metadata": {
      "needs_background": "light"
     },
     "output_type": "display_data"
    }
   ],
   "source": [
    "plt.plot(np.linspace(-scale/2,scale/2,20), m*np.linspace(-scale/2,scale/2,20)+b, lw = 2)\n",
    "plt.plot(np.linspace(-scale/2,scale/2,20), numpyResults[0]*np.linspace(-scale/2,scale/2,20)+numpyResults[1], lw = 10, alpha = .5)\n",
    "# don't forget to include the linspace as the x for plot\n",
    "plt.scatter(xs,ys)\n",
    "plt.axis([-scale/2,scale/2,-scale/2,scale/2])\n",
    "plt.gca().axes.get_xaxis().set_visible(False)\n",
    "plt.gca().axes.get_yaxis().set_visible(False)"
   ]
  },
  {
   "cell_type": "code",
   "execution_count": 16,
   "metadata": {},
   "outputs": [
    {
     "data": {
      "text/plain": [
       "array([-5.        , -4.47368421, -3.94736842, -3.42105263, -2.89473684,\n",
       "       -2.36842105, -1.84210526, -1.31578947, -0.78947368, -0.26315789,\n",
       "        0.26315789,  0.78947368,  1.31578947,  1.84210526,  2.36842105,\n",
       "        2.89473684,  3.42105263,  3.94736842,  4.47368421,  5.        ])"
      ]
     },
     "execution_count": 16,
     "metadata": {},
     "output_type": "execute_result"
    }
   ],
   "source": [
    "xs"
   ]
  },
  {
   "cell_type": "code",
   "execution_count": 17,
   "metadata": {},
   "outputs": [
    {
     "data": {
      "text/plain": [
       "array([2.66723518, 1.74965429, 1.59191251, 0.43729617, 0.29827189,\n",
       "       0.22773264, 2.94805837, 2.28378752, 2.15320164, 1.42600327,\n",
       "       1.4127106 , 2.81447315, 0.29411441, 2.49252513, 1.23383692,\n",
       "       1.3081184 , 1.18085441, 0.43549825, 1.70907611, 2.7517106 ])"
      ]
     },
     "execution_count": 17,
     "metadata": {},
     "output_type": "execute_result"
    }
   ],
   "source": [
    "ys"
   ]
  },
  {
   "cell_type": "code",
   "execution_count": 18,
   "metadata": {},
   "outputs": [
    {
     "data": {
      "text/plain": [
       "0.7898172464105682"
      ]
     },
     "execution_count": 18,
     "metadata": {},
     "output_type": "execute_result"
    }
   ],
   "source": [
    "np.mean([(i-np.mean(ys))**2 for i in ys])"
   ]
  },
  {
   "cell_type": "code",
   "execution_count": 19,
   "metadata": {},
   "outputs": [
    {
     "data": {
      "text/plain": [
       "0.7898172464105682"
      ]
     },
     "execution_count": 19,
     "metadata": {},
     "output_type": "execute_result"
    }
   ],
   "source": [
    "np.square(np.subtract(ys, np.mean(ys))).mean()"
   ]
  },
  {
   "cell_type": "markdown",
   "metadata": {},
   "source": [
    "## this method does not exactly scale to larger datasets. It becomes impossibly expensive to calculate an analytical solution like this for multi-dimensional data such as image datasets. Instead, we iterate toward what might be the best solution -- this method of iteration comes in many shapes and forms, one being gradient descent. \n",
    "\n",
    "## With this iterative process comes a few factors to note. One: we pass over the same data multiple times, these are 'training epochs'.\n",
    "\n",
    "## We can also control how much of a jump in our coefficients our iterative steps should make, whatever is used in controlling these jumps are one of several potential \"hyperparameters\", parameters used to find the model paramters, maybe more accurately called metaparameters.\n",
    "\n",
    "## Whatever is used to guide the selection of hyperparamters, is considered the validation set."
   ]
  },
  {
   "cell_type": "markdown",
   "metadata": {},
   "source": [
    "# perceptron"
   ]
  },
  {
   "cell_type": "code",
   "execution_count": 35,
   "metadata": {},
   "outputs": [],
   "source": [
    "N = 100\n",
    "xn = np.random.rand(N,2)\n",
    "\n",
    "x = np.linspace(0,1);"
   ]
  },
  {
   "cell_type": "code",
   "execution_count": 36,
   "metadata": {},
   "outputs": [
    {
     "data": {
      "text/plain": [
       "array([[0.17987139, 0.17789766],\n",
       "       [0.67289956, 0.48947115],\n",
       "       [0.84709976, 0.62846555],\n",
       "       [0.82029247, 0.81539999],\n",
       "       [0.57053908, 0.9419947 ]])"
      ]
     },
     "execution_count": 36,
     "metadata": {},
     "output_type": "execute_result"
    }
   ],
   "source": [
    "xn[:5]"
   ]
  },
  {
   "cell_type": "code",
   "execution_count": 37,
   "metadata": {},
   "outputs": [],
   "source": [
    "a = np.random.rand();\n",
    "b = np.random.rand();\n",
    "f = lambda x : a*x + b;"
   ]
  },
  {
   "cell_type": "code",
   "execution_count": 38,
   "metadata": {},
   "outputs": [],
   "source": [
    "yn = np.zeros([N,1]);\n",
    "\n",
    "for i in range(N):\n",
    "    if(f(xn[i,0])>xn[i,1]):\n",
    "        # Point is below line\n",
    "        yn[i] = 1;\n",
    "#         pl.plot(xn[i,0],xn[i,1],'go')\n",
    "    else:\n",
    "        # Point is above line\n",
    "        yn[i] = -1;"
   ]
  },
  {
   "cell_type": "code",
   "execution_count": 39,
   "metadata": {},
   "outputs": [
    {
     "data": {
      "text/plain": [
       "array([[ 1.],\n",
       "       [ 1.],\n",
       "       [ 1.],\n",
       "       [ 1.],\n",
       "       [-1.],\n",
       "       [ 1.],\n",
       "       [ 1.],\n",
       "       [ 1.],\n",
       "       [ 1.],\n",
       "       [ 1.]])"
      ]
     },
     "execution_count": 39,
     "metadata": {},
     "output_type": "execute_result"
    }
   ],
   "source": [
    "yn[:10]"
   ]
  },
  {
   "cell_type": "code",
   "execution_count": 40,
   "metadata": {},
   "outputs": [
    {
     "data": {
      "image/png": "[encoded data removed]",
      "text/plain": [
       "<Figure size 720x720 with 1 Axes>"
      ]
     },
     "metadata": {
      "needs_background": "light"
     },
     "output_type": "display_data"
    }
   ],
   "source": [
    "for ind,i in enumerate(yn):\n",
    "    if i == 1:\n",
    "        plt.plot(xn[ind,0],xn[ind,1],'bo')\n",
    "    if i == -1:\n",
    "        plt.plot(xn[ind,0],xn[ind,1],'ro')\n",
    "plt.plot(x,f(x),'k')\n",
    "plt.gca().axes.get_xaxis().set_visible(False)\n",
    "plt.gca().axes.get_yaxis().set_visible(False)"
   ]
  },
  {
   "cell_type": "markdown",
   "metadata": {},
   "source": [
    "perceptron equation\n",
    "# $y = w_0 + \\Sigma^{n}_{i=1}x_iw_i$"
   ]
  },
  {
   "cell_type": "code",
   "execution_count": 50,
   "metadata": {},
   "outputs": [],
   "source": [
    "f = lambda x: np.sign(w[0]+w[1]*x[0]+w[2]*x[1])"
   ]
  },
  {
   "cell_type": "code",
   "execution_count": 51,
   "metadata": {},
   "outputs": [
    {
     "data": {
      "text/plain": [
       "array([0., 0., 0.])"
      ]
     },
     "execution_count": 51,
     "metadata": {},
     "output_type": "execute_result"
    }
   ],
   "source": [
    "w = np.zeros(3)\n",
    "w"
   ]
  },
  {
   "cell_type": "code",
   "execution_count": 52,
   "metadata": {},
   "outputs": [
    {
     "data": {
      "text/plain": [
       "100"
      ]
     },
     "execution_count": 52,
     "metadata": {},
     "output_type": "execute_result"
    }
   ],
   "source": [
    "N = np.shape(xn)[0]\n",
    "N"
   ]
  },
  {
   "cell_type": "code",
   "execution_count": 53,
   "metadata": {},
   "outputs": [
    {
     "data": {
      "text/plain": [
       "array([[0.17987139, 0.17789766],\n",
       "       [0.67289956, 0.48947115],\n",
       "       [0.84709976, 0.62846555],\n",
       "       [0.82029247, 0.81539999],\n",
       "       [0.57053908, 0.9419947 ],\n",
       "       [0.8693182 , 0.82402505],\n",
       "       [0.975162  , 0.53032085],\n",
       "       [0.00379831, 0.26833793],\n",
       "       [0.78566775, 0.82199558],\n",
       "       [0.86891567, 0.54699791]])"
      ]
     },
     "execution_count": 53,
     "metadata": {},
     "output_type": "execute_result"
    }
   ],
   "source": [
    "xn[:10]"
   ]
  },
  {
   "cell_type": "code",
   "execution_count": 54,
   "metadata": {},
   "outputs": [
    {
     "data": {
      "text/plain": [
       "array([[ 1.],\n",
       "       [ 1.],\n",
       "       [ 1.],\n",
       "       [ 1.],\n",
       "       [-1.],\n",
       "       [ 1.],\n",
       "       [ 1.],\n",
       "       [ 1.],\n",
       "       [ 1.],\n",
       "       [ 1.]])"
      ]
     },
     "execution_count": 54,
     "metadata": {},
     "output_type": "execute_result"
    }
   ],
   "source": [
    "yn[:10]"
   ]
  },
  {
   "cell_type": "markdown",
   "metadata": {},
   "source": [
    "```python\n",
    "f = lambda x: np.sign(w[0]+w[1]*x[0]+w[2]*x[1])\n",
    "```"
   ]
  },
  {
   "cell_type": "code",
   "execution_count": 55,
   "metadata": {},
   "outputs": [
    {
     "name": "stdout",
     "output_type": "stream",
     "text": [
      "classification incorrect 94 0\n",
      "classification incorrect 4 1\n",
      "classification incorrect 72 2\n",
      "classification incorrect 83 4\n",
      "classification incorrect 37 5\n",
      "classification incorrect 61 9\n",
      "classification incorrect 85 14\n",
      "classification incorrect 82 57\n",
      "classification incorrect 5 58\n",
      "classification incorrect 88 66\n",
      "classification incorrect 59 68\n",
      "classification incorrect 34 75\n",
      "classification incorrect 12 76\n",
      "classification incorrect 39 86\n",
      "classification incorrect 15 87\n",
      "classification incorrect 46 89\n",
      "classification incorrect 38 90\n",
      "classification incorrect 86 118\n",
      "classification incorrect 39 132\n",
      "classification incorrect 83 144\n",
      "classification incorrect 21 146\n",
      "classification incorrect 4 161\n",
      "classification incorrect 68 163\n",
      "classification incorrect 30 188\n",
      "classification incorrect 39 190\n",
      "classification incorrect 12 196\n",
      "classification incorrect 46 207\n",
      "classification incorrect 20 220\n",
      "classification incorrect 79 225\n",
      "classification incorrect 86 234\n",
      "classification incorrect 4 237\n",
      "classification incorrect 68 241\n",
      "classification incorrect 83 262\n",
      "classification incorrect 65 263\n",
      "classification incorrect 81 265\n",
      "classification incorrect 15 271\n",
      "classification incorrect 81 278\n",
      "classification incorrect 8 280\n",
      "classification incorrect 79 281\n",
      "classification incorrect 22 286\n",
      "classification incorrect 4 290\n",
      "classification incorrect 29 293\n",
      "classification incorrect 39 296\n",
      "classification incorrect 43 301\n",
      "classification incorrect 33 302\n",
      "classification incorrect 83 321\n",
      "classification incorrect 33 329\n",
      "classification incorrect 34 347\n",
      "classification incorrect 20 353\n",
      "classification incorrect 57 374\n",
      "classification incorrect 64 388\n",
      "classification incorrect 79 396\n",
      "classification incorrect 45 410\n",
      "classification incorrect 81 416\n",
      "classification incorrect 64 434\n",
      "classification incorrect 48 440\n",
      "classification incorrect 36 449\n",
      "classification incorrect 81 463\n",
      "classification incorrect 20 480\n",
      "classification incorrect 48 482\n",
      "classification incorrect 20 489\n",
      "classification incorrect 39 493\n"
     ]
    }
   ],
   "source": [
    "iters = 500\n",
    "wHist = []\n",
    "for _ in range(iters): # take 250 random observations of the data, one at a time.\n",
    "    i = np.random.randint(N) \n",
    "    # select 1 graphed dot randomly\n",
    "    if(yn[i] != f(xn[i,:])): \n",
    "        # If the label for that dot does not match the classification,\n",
    "        # adjust the line to account for that point.\n",
    "        w[0] += yn[i] # Use the label to inform the direction that the line points (up or down)\n",
    "        w[1] += yn[i]*xn[i,0] # Use the label and the point to change the orientation of the line\n",
    "        w[2] += yn[i]*xn[i,1]\n",
    "        \n",
    "        '''\n",
    "        b_perceptron = -w[0]/w[2];\n",
    "        m_perceptron = -w[1]/w[2];\n",
    "        '''\n",
    "        print('classification incorrect', i, _)"
   ]
  },
  {
   "cell_type": "code",
   "execution_count": 56,
   "metadata": {},
   "outputs": [
    {
     "data": {
      "text/plain": [
       "array([ 2.        ,  3.57435618, -5.32417038])"
      ]
     },
     "execution_count": 56,
     "metadata": {},
     "output_type": "execute_result"
    }
   ],
   "source": [
    "w"
   ]
  },
  {
   "cell_type": "code",
   "execution_count": 57,
   "metadata": {},
   "outputs": [],
   "source": [
    "b_perc = -w[0]/w[2];\n",
    "m_perc = -w[1]/w[2];\n",
    "y = lambda x: m_perc * x + b_perc;\n",
    "f = lambda x : a*x + b;"
   ]
  },
  {
   "cell_type": "code",
   "execution_count": 58,
   "metadata": {},
   "outputs": [
    {
     "data": {
      "image/png": "[encoded data removed]",
      "text/plain": [
       "<Figure size 720x720 with 1 Axes>"
      ]
     },
     "metadata": {
      "needs_background": "light"
     },
     "output_type": "display_data"
    }
   ],
   "source": [
    "for ind,i in enumerate(yn):\n",
    "    if i == 1:\n",
    "        plt.plot(xn[ind,0],xn[ind,1],'bo')\n",
    "    if i == -1:\n",
    "        plt.plot(xn[ind,0],xn[ind,1],'ro')\n",
    "plt.plot(x,f(x),'k')\n",
    "\n",
    "plt.plot(x,y(x),'k--',label='perceptron')\n",
    "plt.legend()\n",
    "\n",
    "plt.gca().axes.get_xaxis().set_visible(False)\n",
    "plt.gca().axes.get_yaxis().set_visible(False)"
   ]
  }
 ],
 "metadata": {
  "kernelspec": {
   "display_name": "Python 3",
   "language": "python",
   "name": "python3"
  },
  "language_info": {
   "codemirror_mode": {
    "name": "ipython",
    "version": 3
   },
   "file_extension": ".py",
   "mimetype": "text/x-python",
   "name": "python",
   "nbconvert_exporter": "python",
   "pygments_lexer": "ipython3",
   "version": "3.7.7"
  }
 },
 "nbformat": 4,
 "nbformat_minor": 4
}
